{
  "cells": [
    {
      "cell_type": "code",
      "execution_count": 2,
      "metadata": {
        "id": "1IWnIsJAQG_H"
      },
      "outputs": [],
      "source": [
        "# load packages\n",
        "import numpy as np\n",
        "import pandas as pd\n",
        "import matplotlib.pyplot as plt"
      ]
    },
    {
      "cell_type": "code",
      "execution_count": 3,
      "metadata": {},
      "outputs": [
        {
          "name": "stdout",
          "output_type": "stream",
          "text": [
            "Collecting openpyxl\n",
            "  Downloading openpyxl-3.1.2-py2.py3-none-any.whl (249 kB)\n",
            "     ---------------------------------------- 0.0/250.0 kB ? eta -:--:--\n",
            "     -------------------------------------  245.8/250.0 kB 7.4 MB/s eta 0:00:01\n",
            "     -------------------------------------- 250.0/250.0 kB 5.1 MB/s eta 0:00:00\n",
            "Collecting et-xmlfile (from openpyxl)\n",
            "  Downloading et_xmlfile-1.1.0-py3-none-any.whl (4.7 kB)\n",
            "Installing collected packages: et-xmlfile, openpyxl\n",
            "Successfully installed et-xmlfile-1.1.0 openpyxl-3.1.2\n"
          ]
        },
        {
          "name": "stderr",
          "output_type": "stream",
          "text": [
            "\n",
            "[notice] A new release of pip is available: 23.3.1 -> 23.3.2\n",
            "[notice] To update, run: python.exe -m pip install --upgrade pip\n"
          ]
        }
      ],
      "source": [
        "!pip install openpyxl"
      ]
    },
    {
      "cell_type": "code",
      "execution_count": 3,
      "metadata": {
        "id": "sHEvQ-qMQW29"
      },
      "outputs": [],
      "source": [
        "# import data\n",
        "xl = pd.ExcelFile(\"./test_data.xlsx\")"
      ]
    },
    {
      "cell_type": "code",
      "execution_count": 4,
      "metadata": {
        "id": "uERacpOhQ75u"
      },
      "outputs": [],
      "source": [
        "# Reading Excel File\n",
        "df = xl.parse('Year 2009-2010')"
      ]
    },
    {
      "cell_type": "code",
      "execution_count": 11,
      "metadata": {
        "id": "SjNhd81mSHnY"
      },
      "outputs": [],
      "source": [
        "# Read data from index 38000 to 42000\n",
        "subset_df = df.loc[342000:346000]"
      ]
    },
    {
      "cell_type": "code",
      "execution_count": 12,
      "metadata": {
        "colab": {
          "base_uri": "https://localhost:8080/",
          "height": 206
        },
        "id": "X9ZYi2V7Tjy1",
        "outputId": "5abd3506-9668-40ad-9683-90a50cd05934"
      },
      "outputs": [
        {
          "data": {
            "text/html": [
              "<div>\n",
              "<style scoped>\n",
              "    .dataframe tbody tr th:only-of-type {\n",
              "        vertical-align: middle;\n",
              "    }\n",
              "\n",
              "    .dataframe tbody tr th {\n",
              "        vertical-align: top;\n",
              "    }\n",
              "\n",
              "    .dataframe thead th {\n",
              "        text-align: right;\n",
              "    }\n",
              "</style>\n",
              "<table border=\"1\" class=\"dataframe\">\n",
              "  <thead>\n",
              "    <tr style=\"text-align: right;\">\n",
              "      <th></th>\n",
              "      <th>Invoice</th>\n",
              "      <th>StockCode</th>\n",
              "      <th>Description</th>\n",
              "      <th>Quantity</th>\n",
              "      <th>InvoiceDate</th>\n",
              "      <th>Price</th>\n",
              "      <th>Customer ID</th>\n",
              "      <th>Country</th>\n",
              "    </tr>\n",
              "  </thead>\n",
              "  <tbody>\n",
              "    <tr>\n",
              "      <th>342000</th>\n",
              "      <td>522789</td>\n",
              "      <td>71477</td>\n",
              "      <td>COLOUR GLASS. STAR T-LIGHT HOLDER</td>\n",
              "      <td>4</td>\n",
              "      <td>2010-09-16 14:41:00</td>\n",
              "      <td>3.25</td>\n",
              "      <td>14221.0</td>\n",
              "      <td>United Kingdom</td>\n",
              "    </tr>\n",
              "    <tr>\n",
              "      <th>342001</th>\n",
              "      <td>522789</td>\n",
              "      <td>21733</td>\n",
              "      <td>RED HANGING HEART T-LIGHT HOLDER</td>\n",
              "      <td>6</td>\n",
              "      <td>2010-09-16 14:41:00</td>\n",
              "      <td>2.95</td>\n",
              "      <td>14221.0</td>\n",
              "      <td>United Kingdom</td>\n",
              "    </tr>\n",
              "    <tr>\n",
              "      <th>342002</th>\n",
              "      <td>522789</td>\n",
              "      <td>85123A</td>\n",
              "      <td>WHITE HANGING HEART T-LIGHT HOLDER</td>\n",
              "      <td>6</td>\n",
              "      <td>2010-09-16 14:41:00</td>\n",
              "      <td>2.95</td>\n",
              "      <td>14221.0</td>\n",
              "      <td>United Kingdom</td>\n",
              "    </tr>\n",
              "    <tr>\n",
              "      <th>342003</th>\n",
              "      <td>522789</td>\n",
              "      <td>22354</td>\n",
              "      <td>RETROSPOT PADDED SEAT CUSHION</td>\n",
              "      <td>5</td>\n",
              "      <td>2010-09-16 14:41:00</td>\n",
              "      <td>3.75</td>\n",
              "      <td>14221.0</td>\n",
              "      <td>United Kingdom</td>\n",
              "    </tr>\n",
              "    <tr>\n",
              "      <th>342004</th>\n",
              "      <td>522789</td>\n",
              "      <td>84839</td>\n",
              "      <td>SWEETHEART KEY CABINET</td>\n",
              "      <td>2</td>\n",
              "      <td>2010-09-16 14:41:00</td>\n",
              "      <td>6.75</td>\n",
              "      <td>14221.0</td>\n",
              "      <td>United Kingdom</td>\n",
              "    </tr>\n",
              "  </tbody>\n",
              "</table>\n",
              "</div>"
            ],
            "text/plain": [
              "       Invoice StockCode                         Description  Quantity  \\\n",
              "342000  522789     71477   COLOUR GLASS. STAR T-LIGHT HOLDER         4   \n",
              "342001  522789     21733    RED HANGING HEART T-LIGHT HOLDER         6   \n",
              "342002  522789    85123A  WHITE HANGING HEART T-LIGHT HOLDER         6   \n",
              "342003  522789     22354       RETROSPOT PADDED SEAT CUSHION         5   \n",
              "342004  522789     84839              SWEETHEART KEY CABINET         2   \n",
              "\n",
              "               InvoiceDate  Price  Customer ID         Country  \n",
              "342000 2010-09-16 14:41:00   3.25      14221.0  United Kingdom  \n",
              "342001 2010-09-16 14:41:00   2.95      14221.0  United Kingdom  \n",
              "342002 2010-09-16 14:41:00   2.95      14221.0  United Kingdom  \n",
              "342003 2010-09-16 14:41:00   3.75      14221.0  United Kingdom  \n",
              "342004 2010-09-16 14:41:00   6.75      14221.0  United Kingdom  "
            ]
          },
          "execution_count": 12,
          "metadata": {},
          "output_type": "execute_result"
        }
      ],
      "source": [
        "subset_df.head()"
      ]
    },
    {
      "cell_type": "code",
      "execution_count": 13,
      "metadata": {
        "colab": {
          "base_uri": "https://localhost:8080/"
        },
        "id": "jR6nM2hCU6Yc",
        "outputId": "52228b0f-7f88-4307-803b-46561b0ca0ba"
      },
      "outputs": [
        {
          "data": {
            "text/html": [
              "<div>\n",
              "<style scoped>\n",
              "    .dataframe tbody tr th:only-of-type {\n",
              "        vertical-align: middle;\n",
              "    }\n",
              "\n",
              "    .dataframe tbody tr th {\n",
              "        vertical-align: top;\n",
              "    }\n",
              "\n",
              "    .dataframe thead th {\n",
              "        text-align: right;\n",
              "    }\n",
              "</style>\n",
              "<table border=\"1\" class=\"dataframe\">\n",
              "  <thead>\n",
              "    <tr style=\"text-align: right;\">\n",
              "      <th></th>\n",
              "      <th>Invoice</th>\n",
              "      <th>StockCode</th>\n",
              "      <th>Description</th>\n",
              "      <th>Quantity</th>\n",
              "      <th>InvoiceDate</th>\n",
              "      <th>Price</th>\n",
              "      <th>Customer ID</th>\n",
              "      <th>Country</th>\n",
              "    </tr>\n",
              "  </thead>\n",
              "  <tbody>\n",
              "    <tr>\n",
              "      <th>342000</th>\n",
              "      <td>False</td>\n",
              "      <td>False</td>\n",
              "      <td>False</td>\n",
              "      <td>False</td>\n",
              "      <td>False</td>\n",
              "      <td>False</td>\n",
              "      <td>False</td>\n",
              "      <td>False</td>\n",
              "    </tr>\n",
              "    <tr>\n",
              "      <th>342001</th>\n",
              "      <td>False</td>\n",
              "      <td>False</td>\n",
              "      <td>False</td>\n",
              "      <td>False</td>\n",
              "      <td>False</td>\n",
              "      <td>False</td>\n",
              "      <td>False</td>\n",
              "      <td>False</td>\n",
              "    </tr>\n",
              "    <tr>\n",
              "      <th>342002</th>\n",
              "      <td>False</td>\n",
              "      <td>False</td>\n",
              "      <td>False</td>\n",
              "      <td>False</td>\n",
              "      <td>False</td>\n",
              "      <td>False</td>\n",
              "      <td>False</td>\n",
              "      <td>False</td>\n",
              "    </tr>\n",
              "    <tr>\n",
              "      <th>342003</th>\n",
              "      <td>False</td>\n",
              "      <td>False</td>\n",
              "      <td>False</td>\n",
              "      <td>False</td>\n",
              "      <td>False</td>\n",
              "      <td>False</td>\n",
              "      <td>False</td>\n",
              "      <td>False</td>\n",
              "    </tr>\n",
              "    <tr>\n",
              "      <th>342004</th>\n",
              "      <td>False</td>\n",
              "      <td>False</td>\n",
              "      <td>False</td>\n",
              "      <td>False</td>\n",
              "      <td>False</td>\n",
              "      <td>False</td>\n",
              "      <td>False</td>\n",
              "      <td>False</td>\n",
              "    </tr>\n",
              "    <tr>\n",
              "      <th>...</th>\n",
              "      <td>...</td>\n",
              "      <td>...</td>\n",
              "      <td>...</td>\n",
              "      <td>...</td>\n",
              "      <td>...</td>\n",
              "      <td>...</td>\n",
              "      <td>...</td>\n",
              "      <td>...</td>\n",
              "    </tr>\n",
              "    <tr>\n",
              "      <th>345996</th>\n",
              "      <td>False</td>\n",
              "      <td>False</td>\n",
              "      <td>False</td>\n",
              "      <td>False</td>\n",
              "      <td>False</td>\n",
              "      <td>False</td>\n",
              "      <td>False</td>\n",
              "      <td>False</td>\n",
              "    </tr>\n",
              "    <tr>\n",
              "      <th>345997</th>\n",
              "      <td>False</td>\n",
              "      <td>False</td>\n",
              "      <td>False</td>\n",
              "      <td>False</td>\n",
              "      <td>False</td>\n",
              "      <td>False</td>\n",
              "      <td>False</td>\n",
              "      <td>False</td>\n",
              "    </tr>\n",
              "    <tr>\n",
              "      <th>345998</th>\n",
              "      <td>False</td>\n",
              "      <td>False</td>\n",
              "      <td>False</td>\n",
              "      <td>False</td>\n",
              "      <td>False</td>\n",
              "      <td>False</td>\n",
              "      <td>False</td>\n",
              "      <td>False</td>\n",
              "    </tr>\n",
              "    <tr>\n",
              "      <th>345999</th>\n",
              "      <td>False</td>\n",
              "      <td>False</td>\n",
              "      <td>False</td>\n",
              "      <td>False</td>\n",
              "      <td>False</td>\n",
              "      <td>False</td>\n",
              "      <td>False</td>\n",
              "      <td>False</td>\n",
              "    </tr>\n",
              "    <tr>\n",
              "      <th>346000</th>\n",
              "      <td>False</td>\n",
              "      <td>False</td>\n",
              "      <td>False</td>\n",
              "      <td>False</td>\n",
              "      <td>False</td>\n",
              "      <td>False</td>\n",
              "      <td>False</td>\n",
              "      <td>False</td>\n",
              "    </tr>\n",
              "  </tbody>\n",
              "</table>\n",
              "<p>4001 rows × 8 columns</p>\n",
              "</div>"
            ],
            "text/plain": [
              "        Invoice  StockCode  Description  Quantity  InvoiceDate  Price  \\\n",
              "342000    False      False        False     False        False  False   \n",
              "342001    False      False        False     False        False  False   \n",
              "342002    False      False        False     False        False  False   \n",
              "342003    False      False        False     False        False  False   \n",
              "342004    False      False        False     False        False  False   \n",
              "...         ...        ...          ...       ...          ...    ...   \n",
              "345996    False      False        False     False        False  False   \n",
              "345997    False      False        False     False        False  False   \n",
              "345998    False      False        False     False        False  False   \n",
              "345999    False      False        False     False        False  False   \n",
              "346000    False      False        False     False        False  False   \n",
              "\n",
              "        Customer ID  Country  \n",
              "342000        False    False  \n",
              "342001        False    False  \n",
              "342002        False    False  \n",
              "342003        False    False  \n",
              "342004        False    False  \n",
              "...             ...      ...  \n",
              "345996        False    False  \n",
              "345997        False    False  \n",
              "345998        False    False  \n",
              "345999        False    False  \n",
              "346000        False    False  \n",
              "\n",
              "[4001 rows x 8 columns]"
            ]
          },
          "execution_count": 13,
          "metadata": {},
          "output_type": "execute_result"
        }
      ],
      "source": [
        "# Check for NaN values in the entire DataFrame\n",
        "subset_df.isna()"
      ]
    },
    {
      "cell_type": "code",
      "execution_count": 14,
      "metadata": {
        "id": "3gWIAso6VLhe"
      },
      "outputs": [],
      "source": [
        "# Remove missing values from a DataFrame\n",
        "clean_df = subset_df.dropna()"
      ]
    },
    {
      "cell_type": "markdown",
      "metadata": {},
      "source": [
        "---\n",
        "\n",
        "### Test 1 Patch(1)\n"
      ]
    },
    {
      "cell_type": "code",
      "execution_count": 15,
      "metadata": {},
      "outputs": [
        {
          "data": {
            "text/html": [
              "<div>\n",
              "<style scoped>\n",
              "    .dataframe tbody tr th:only-of-type {\n",
              "        vertical-align: middle;\n",
              "    }\n",
              "\n",
              "    .dataframe tbody tr th {\n",
              "        vertical-align: top;\n",
              "    }\n",
              "\n",
              "    .dataframe thead th {\n",
              "        text-align: right;\n",
              "    }\n",
              "</style>\n",
              "<table border=\"1\" class=\"dataframe\">\n",
              "  <thead>\n",
              "    <tr style=\"text-align: right;\">\n",
              "      <th></th>\n",
              "      <th>Invoice</th>\n",
              "      <th>StockCode</th>\n",
              "      <th>Description</th>\n",
              "      <th>Quantity</th>\n",
              "      <th>InvoiceDate</th>\n",
              "      <th>Price</th>\n",
              "      <th>Customer ID</th>\n",
              "      <th>Country</th>\n",
              "    </tr>\n",
              "  </thead>\n",
              "  <tbody>\n",
              "    <tr>\n",
              "      <th>342000</th>\n",
              "      <td>522789</td>\n",
              "      <td>71477</td>\n",
              "      <td>COLOUR GLASS. STAR T-LIGHT HOLDER</td>\n",
              "      <td>4</td>\n",
              "      <td>2010-09-16 14:41:00</td>\n",
              "      <td>3.25</td>\n",
              "      <td>14221.0</td>\n",
              "      <td>United Kingdom</td>\n",
              "    </tr>\n",
              "    <tr>\n",
              "      <th>342001</th>\n",
              "      <td>522789</td>\n",
              "      <td>21733</td>\n",
              "      <td>RED HANGING HEART T-LIGHT HOLDER</td>\n",
              "      <td>6</td>\n",
              "      <td>2010-09-16 14:41:00</td>\n",
              "      <td>2.95</td>\n",
              "      <td>14221.0</td>\n",
              "      <td>United Kingdom</td>\n",
              "    </tr>\n",
              "    <tr>\n",
              "      <th>342002</th>\n",
              "      <td>522789</td>\n",
              "      <td>85123A</td>\n",
              "      <td>WHITE HANGING HEART T-LIGHT HOLDER</td>\n",
              "      <td>6</td>\n",
              "      <td>2010-09-16 14:41:00</td>\n",
              "      <td>2.95</td>\n",
              "      <td>14221.0</td>\n",
              "      <td>United Kingdom</td>\n",
              "    </tr>\n",
              "    <tr>\n",
              "      <th>342003</th>\n",
              "      <td>522789</td>\n",
              "      <td>22354</td>\n",
              "      <td>RETROSPOT PADDED SEAT CUSHION</td>\n",
              "      <td>5</td>\n",
              "      <td>2010-09-16 14:41:00</td>\n",
              "      <td>3.75</td>\n",
              "      <td>14221.0</td>\n",
              "      <td>United Kingdom</td>\n",
              "    </tr>\n",
              "    <tr>\n",
              "      <th>342004</th>\n",
              "      <td>522789</td>\n",
              "      <td>84839</td>\n",
              "      <td>SWEETHEART KEY CABINET</td>\n",
              "      <td>2</td>\n",
              "      <td>2010-09-16 14:41:00</td>\n",
              "      <td>6.75</td>\n",
              "      <td>14221.0</td>\n",
              "      <td>United Kingdom</td>\n",
              "    </tr>\n",
              "    <tr>\n",
              "      <th>...</th>\n",
              "      <td>...</td>\n",
              "      <td>...</td>\n",
              "      <td>...</td>\n",
              "      <td>...</td>\n",
              "      <td>...</td>\n",
              "      <td>...</td>\n",
              "      <td>...</td>\n",
              "      <td>...</td>\n",
              "    </tr>\n",
              "    <tr>\n",
              "      <th>345996</th>\n",
              "      <td>523015</td>\n",
              "      <td>22512</td>\n",
              "      <td>DOORSTOP RACING CAR DESIGN</td>\n",
              "      <td>4</td>\n",
              "      <td>2010-09-20 10:23:00</td>\n",
              "      <td>3.75</td>\n",
              "      <td>15462.0</td>\n",
              "      <td>United Kingdom</td>\n",
              "    </tr>\n",
              "    <tr>\n",
              "      <th>345997</th>\n",
              "      <td>523015</td>\n",
              "      <td>22513</td>\n",
              "      <td>DOORSTOP FOOTBALL DESIGN</td>\n",
              "      <td>4</td>\n",
              "      <td>2010-09-20 10:23:00</td>\n",
              "      <td>3.75</td>\n",
              "      <td>15462.0</td>\n",
              "      <td>United Kingdom</td>\n",
              "    </tr>\n",
              "    <tr>\n",
              "      <th>345998</th>\n",
              "      <td>523015</td>\n",
              "      <td>21668</td>\n",
              "      <td>RED STRIPE CERAMIC DRAWER KNOB</td>\n",
              "      <td>24</td>\n",
              "      <td>2010-09-20 10:23:00</td>\n",
              "      <td>1.25</td>\n",
              "      <td>15462.0</td>\n",
              "      <td>United Kingdom</td>\n",
              "    </tr>\n",
              "    <tr>\n",
              "      <th>345999</th>\n",
              "      <td>523015</td>\n",
              "      <td>21669</td>\n",
              "      <td>BLUE STRIPE CERAMIC DRAWER KNOB</td>\n",
              "      <td>24</td>\n",
              "      <td>2010-09-20 10:23:00</td>\n",
              "      <td>1.25</td>\n",
              "      <td>15462.0</td>\n",
              "      <td>United Kingdom</td>\n",
              "    </tr>\n",
              "    <tr>\n",
              "      <th>346000</th>\n",
              "      <td>523015</td>\n",
              "      <td>21672</td>\n",
              "      <td>WHITE SPOT RED CERAMIC DRAWER KNOB</td>\n",
              "      <td>12</td>\n",
              "      <td>2010-09-20 10:23:00</td>\n",
              "      <td>1.25</td>\n",
              "      <td>15462.0</td>\n",
              "      <td>United Kingdom</td>\n",
              "    </tr>\n",
              "  </tbody>\n",
              "</table>\n",
              "<p>3658 rows × 8 columns</p>\n",
              "</div>"
            ],
            "text/plain": [
              "       Invoice StockCode                         Description  Quantity  \\\n",
              "342000  522789     71477   COLOUR GLASS. STAR T-LIGHT HOLDER         4   \n",
              "342001  522789     21733    RED HANGING HEART T-LIGHT HOLDER         6   \n",
              "342002  522789    85123A  WHITE HANGING HEART T-LIGHT HOLDER         6   \n",
              "342003  522789     22354       RETROSPOT PADDED SEAT CUSHION         5   \n",
              "342004  522789     84839              SWEETHEART KEY CABINET         2   \n",
              "...        ...       ...                                 ...       ...   \n",
              "345996  523015     22512          DOORSTOP RACING CAR DESIGN         4   \n",
              "345997  523015     22513            DOORSTOP FOOTBALL DESIGN         4   \n",
              "345998  523015     21668      RED STRIPE CERAMIC DRAWER KNOB        24   \n",
              "345999  523015     21669     BLUE STRIPE CERAMIC DRAWER KNOB        24   \n",
              "346000  523015     21672  WHITE SPOT RED CERAMIC DRAWER KNOB        12   \n",
              "\n",
              "               InvoiceDate  Price  Customer ID         Country  \n",
              "342000 2010-09-16 14:41:00   3.25      14221.0  United Kingdom  \n",
              "342001 2010-09-16 14:41:00   2.95      14221.0  United Kingdom  \n",
              "342002 2010-09-16 14:41:00   2.95      14221.0  United Kingdom  \n",
              "342003 2010-09-16 14:41:00   3.75      14221.0  United Kingdom  \n",
              "342004 2010-09-16 14:41:00   6.75      14221.0  United Kingdom  \n",
              "...                    ...    ...          ...             ...  \n",
              "345996 2010-09-20 10:23:00   3.75      15462.0  United Kingdom  \n",
              "345997 2010-09-20 10:23:00   3.75      15462.0  United Kingdom  \n",
              "345998 2010-09-20 10:23:00   1.25      15462.0  United Kingdom  \n",
              "345999 2010-09-20 10:23:00   1.25      15462.0  United Kingdom  \n",
              "346000 2010-09-20 10:23:00   1.25      15462.0  United Kingdom  \n",
              "\n",
              "[3658 rows x 8 columns]"
            ]
          },
          "execution_count": 15,
          "metadata": {},
          "output_type": "execute_result"
        }
      ],
      "source": [
        "# Preview data\n",
        "clean_df"
      ]
    },
    {
      "cell_type": "code",
      "execution_count": 21,
      "metadata": {},
      "outputs": [
        {
          "name": "stderr",
          "output_type": "stream",
          "text": [
            "C:\\Users\\User\\AppData\\Local\\Temp\\ipykernel_9644\\3431560881.py:11: SettingWithCopyWarning: \n",
            "A value is trying to be set on a copy of a slice from a DataFrame.\n",
            "Try using .loc[row_indexer,col_indexer] = value instead\n",
            "\n",
            "See the caveats in the documentation: https://pandas.pydata.org/pandas-docs/stable/user_guide/indexing.html#returning-a-view-versus-a-copy\n",
            "  clean_df['Total'] = clean_df['Price'] * clean_df['Quantity']\n"
          ]
        },
        {
          "data": {
            "text/html": [
              "<div>\n",
              "<style scoped>\n",
              "    .dataframe tbody tr th:only-of-type {\n",
              "        vertical-align: middle;\n",
              "    }\n",
              "\n",
              "    .dataframe tbody tr th {\n",
              "        vertical-align: top;\n",
              "    }\n",
              "\n",
              "    .dataframe thead th {\n",
              "        text-align: right;\n",
              "    }\n",
              "</style>\n",
              "<table border=\"1\" class=\"dataframe\">\n",
              "  <thead>\n",
              "    <tr style=\"text-align: right;\">\n",
              "      <th></th>\n",
              "      <th>Customer ID</th>\n",
              "      <th>Total</th>\n",
              "    </tr>\n",
              "  </thead>\n",
              "  <tbody>\n",
              "    <tr>\n",
              "      <th>0</th>\n",
              "      <td>13881.0</td>\n",
              "      <td>6886.22</td>\n",
              "    </tr>\n",
              "    <tr>\n",
              "      <th>1</th>\n",
              "      <td>17706.0</td>\n",
              "      <td>3485.31</td>\n",
              "    </tr>\n",
              "  </tbody>\n",
              "</table>\n",
              "</div>"
            ],
            "text/plain": [
              "   Customer ID    Total\n",
              "0      13881.0  6886.22\n",
              "1      17706.0  3485.31"
            ]
          },
          "execution_count": 21,
          "metadata": {},
          "output_type": "execute_result"
        }
      ],
      "source": [
        "# Q1: The amount of unique invoices in the provided dataset for indexes (399000, 403000) is equal to ==> 200\n",
        "clean_df['Invoice'].nunique()  # 200\n",
        "# Q2-1: The country with the most orders is , with the amount of? ==> United Kingdom\t2514\n",
        "clean_df.groupby('Country')['Invoice'].count().nlargest(1).reset_index()  # United Kingdom\t2514\n",
        "\n",
        "# Q3-1:The country with the least orders is ,  with the amount of ==> Australia\t5\n",
        "clean_df.groupby('Country')['Invoice'].count().nsmallest(1).reset_index()  # Australia\t5\n",
        "\n",
        "# Q4-1:The highest total price per item in one order was, in order with id? ==> 492724\t8370.08\n",
        "# First create the total column based on Price * Quantity to represent total price per item\n",
        "clean_df['Total'] = clean_df['Price'] * clean_df['Quantity']\n",
        "clean_df.groupby('Invoice')['Total'].sum().nlargest(1)  # Invoice:492724\tTotal:8370.08\n",
        "\n",
        "# Q5-1: The second highest spending customer with id, ordered a total of?\n",
        "clean_df.groupby('Customer ID')['Total'].sum().nlargest(2).reset_index() # Customer ID: 15311.0\tTotal: 2310.51"
      ]
    },
    {
      "cell_type": "markdown",
      "metadata": {},
      "source": [
        "-------\n"
      ]
    },
    {
      "cell_type": "code",
      "execution_count": 140,
      "metadata": {},
      "outputs": [
        {
          "data": {
            "text/html": [
              "<div>\n",
              "<style scoped>\n",
              "    .dataframe tbody tr th:only-of-type {\n",
              "        vertical-align: middle;\n",
              "    }\n",
              "\n",
              "    .dataframe tbody tr th {\n",
              "        vertical-align: top;\n",
              "    }\n",
              "\n",
              "    .dataframe thead th {\n",
              "        text-align: right;\n",
              "    }\n",
              "</style>\n",
              "<table border=\"1\" class=\"dataframe\">\n",
              "  <thead>\n",
              "    <tr style=\"text-align: right;\">\n",
              "      <th></th>\n",
              "      <th>Invoice</th>\n",
              "      <th>StockCode</th>\n",
              "      <th>Description</th>\n",
              "      <th>Quantity</th>\n",
              "      <th>InvoiceDate</th>\n",
              "      <th>Price</th>\n",
              "      <th>Customer ID</th>\n",
              "      <th>Country</th>\n",
              "    </tr>\n",
              "  </thead>\n",
              "  <tbody>\n",
              "    <tr>\n",
              "      <th>171000</th>\n",
              "      <td>505588</td>\n",
              "      <td>21373</td>\n",
              "      <td>MIRRORED WALL ART SNOWFLAKES</td>\n",
              "      <td>1</td>\n",
              "      <td>2010-04-23 12:20:00</td>\n",
              "      <td>2.55</td>\n",
              "      <td>15548.0</td>\n",
              "      <td>United Kingdom</td>\n",
              "    </tr>\n",
              "    <tr>\n",
              "      <th>171001</th>\n",
              "      <td>505588</td>\n",
              "      <td>21371</td>\n",
              "      <td>MIRRORED WALL ART POPPIES</td>\n",
              "      <td>1</td>\n",
              "      <td>2010-04-23 12:20:00</td>\n",
              "      <td>2.55</td>\n",
              "      <td>15548.0</td>\n",
              "      <td>United Kingdom</td>\n",
              "    </tr>\n",
              "    <tr>\n",
              "      <th>171002</th>\n",
              "      <td>505588</td>\n",
              "      <td>85152</td>\n",
              "      <td>HAND OVER THE CHOCOLATE   SIGN</td>\n",
              "      <td>1</td>\n",
              "      <td>2010-04-23 12:20:00</td>\n",
              "      <td>2.10</td>\n",
              "      <td>15548.0</td>\n",
              "      <td>United Kingdom</td>\n",
              "    </tr>\n",
              "    <tr>\n",
              "      <th>171003</th>\n",
              "      <td>505588</td>\n",
              "      <td>85150</td>\n",
              "      <td>LADIES &amp; GENTLEMEN METAL SIGN</td>\n",
              "      <td>1</td>\n",
              "      <td>2010-04-23 12:20:00</td>\n",
              "      <td>2.55</td>\n",
              "      <td>15548.0</td>\n",
              "      <td>United Kingdom</td>\n",
              "    </tr>\n",
              "    <tr>\n",
              "      <th>171004</th>\n",
              "      <td>505588</td>\n",
              "      <td>22565</td>\n",
              "      <td>FELTCRAFT HAIRBANDS PINK AND WHITE</td>\n",
              "      <td>12</td>\n",
              "      <td>2010-04-23 12:20:00</td>\n",
              "      <td>0.85</td>\n",
              "      <td>15548.0</td>\n",
              "      <td>United Kingdom</td>\n",
              "    </tr>\n",
              "  </tbody>\n",
              "</table>\n",
              "</div>"
            ],
            "text/plain": [
              "       Invoice StockCode                          Description  Quantity  \\\n",
              "171000  505588     21373         MIRRORED WALL ART SNOWFLAKES         1   \n",
              "171001  505588     21371            MIRRORED WALL ART POPPIES         1   \n",
              "171002  505588     85152      HAND OVER THE CHOCOLATE   SIGN          1   \n",
              "171003  505588     85150        LADIES & GENTLEMEN METAL SIGN         1   \n",
              "171004  505588     22565  FELTCRAFT HAIRBANDS PINK AND WHITE         12   \n",
              "\n",
              "               InvoiceDate  Price  Customer ID         Country  \n",
              "171000 2010-04-23 12:20:00   2.55      15548.0  United Kingdom  \n",
              "171001 2010-04-23 12:20:00   2.55      15548.0  United Kingdom  \n",
              "171002 2010-04-23 12:20:00   2.10      15548.0  United Kingdom  \n",
              "171003 2010-04-23 12:20:00   2.55      15548.0  United Kingdom  \n",
              "171004 2010-04-23 12:20:00   0.85      15548.0  United Kingdom  "
            ]
          },
          "execution_count": 140,
          "metadata": {},
          "output_type": "execute_result"
        }
      ],
      "source": [
        "# You are supposed to analyze data in indexes between (171000, 175000)\n",
        "# Read data from index 171000 to 175000\n",
        "subset_df_2 = df.loc[171000:175000]\n",
        "# Check for NaN values in the entire DataFrame\n",
        "subset_df_2.isna().reset_index()\n",
        "# Remove missing values from a DataFrame\n",
        "clean_df = subset_df_2.dropna()\n",
        "\n",
        "df.to_excel('varun_clean_df.xlsx', index=False)\n",
        "clean_df.head()"
      ]
    },
    {
      "cell_type": "code",
      "execution_count": 145,
      "metadata": {},
      "outputs": [
        {
          "name": "stderr",
          "output_type": "stream",
          "text": [
            "C:\\Users\\User\\AppData\\Local\\Temp\\ipykernel_51136\\1975345868.py:8: SettingWithCopyWarning: \n",
            "A value is trying to be set on a copy of a slice from a DataFrame.\n",
            "Try using .loc[row_indexer,col_indexer] = value instead\n",
            "\n",
            "See the caveats in the documentation: https://pandas.pydata.org/pandas-docs/stable/user_guide/indexing.html#returning-a-view-versus-a-copy\n",
            "  clean_df['Total'] = clean_df['Price'] * clean_df['Quantity']\n"
          ]
        },
        {
          "data": {
            "text/plain": [
              "Customer ID\n",
              "16684.0    6598.26\n",
              "13881.0    3375.96\n",
              "Name: Total, dtype: float64"
            ]
          },
          "execution_count": 145,
          "metadata": {},
          "output_type": "execute_result"
        }
      ],
      "source": [
        "# The amount of unique invoices in the provided dataset for indexes (171000, 175000) is equal to ==> 157\n",
        "clean_df['Invoice'].nunique()\n",
        "# The country with the most orders is ==> United Kingdom, with the amount of : 3027\n",
        "clean_df.groupby('Country')['Invoice'].count().nlargest(1)\n",
        "# The country with the least orders is, with the amount of ==> Sweden\t9\n",
        "clean_df.groupby('Country')['Invoice'].count().nsmallest(1)\n",
        "# The highest total price per item in one order was, in order with id\n",
        "clean_df['Total'] = clean_df['Price'] * clean_df['Quantity']\n",
        "clean_df.groupby('Invoice')['Total'].sum().nlargest(\n",
        "    1)  # Invoice:505747\tTotal:3256.64\n",
        "# The second highest spending customer with id, ordered a total of\n",
        "clean_df.groupby('Customer ID')['Total'].sum().nlargest(\n",
        "    2)  # Customer ID: 13881.0\tTotal: 3375.96"
      ]
    },
    {
      "cell_type": "markdown",
      "metadata": {},
      "source": [
        "---\n"
      ]
    },
    {
      "cell_type": "code",
      "execution_count": 76,
      "metadata": {},
      "outputs": [
        {
          "name": "stdout",
          "output_type": "stream",
          "text": [
            "1281\n",
            "9.927943760984183\n",
            "2009-12-17 12:46:00 2009-12-21 09:00:00\n",
            "7\n",
            "1281\n",
            "28245\n"
          ]
        },
        {
          "name": "stderr",
          "output_type": "stream",
          "text": [
            "C:\\Users\\User\\AppData\\Local\\Temp\\ipykernel_51136\\831707858.py:33: SettingWithCopyWarning: \n",
            "A value is trying to be set on a copy of a slice from a DataFrame.\n",
            "Try using .loc[row_indexer,col_indexer] = value instead\n",
            "\n",
            "See the caveats in the documentation: https://pandas.pydata.org/pandas-docs/stable/user_guide/indexing.html#returning-a-view-versus-a-copy\n",
            "  clean_df['InvoiceDate'] = pd.to_datetime(clean_df['InvoiceDate'])\n",
            "C:\\Users\\User\\AppData\\Local\\Temp\\ipykernel_51136\\831707858.py:35: SettingWithCopyWarning: \n",
            "A value is trying to be set on a copy of a slice from a DataFrame.\n",
            "Try using .loc[row_indexer,col_indexer] = value instead\n",
            "\n",
            "See the caveats in the documentation: https://pandas.pydata.org/pandas-docs/stable/user_guide/indexing.html#returning-a-view-versus-a-copy\n",
            "  clean_df['Month'] = clean_df['InvoiceDate'].dt.month\n"
          ]
        }
      ],
      "source": [
        "# Total Number of Products\n",
        "# The nunique() method returns the number of unique values for each column.\n",
        "print(clean_df['StockCode'].nunique())\n",
        "\n",
        "# Average Quantity per Order:\n",
        "# Calculate the mean of the 'Quantity' column. to get the average\n",
        "print(clean_df['Quantity'].mean())\n",
        "\n",
        "# Range of Invoice Dates\n",
        "print(clean_df['InvoiceDate'].min(), clean_df['InvoiceDate'].max())\n",
        "\n",
        "# Top 3 Customers by Order Count\n",
        "#  The value_counts() function returns an object containing counts of unique values.\n",
        "# This means it enables us to count the number of unique elements in a column of a Pandas dataframe.\n",
        "clean_df['Customer ID'].value_counts()\n",
        "\n",
        "# Average Spend per (for each)Customer\n",
        "clean_df.groupby('Customer ID')['Price'].mean().sort_values(ascending=False)\n",
        "\n",
        "# New vs Returning Customers:\n",
        "clean_df.groupby('Customer ID')[\n",
        "    'InvoiceDate'].min().sort_values(ascending=False)\n",
        "\n",
        "# Most Sold Items: Identify top 3 products by quantity sold.\n",
        "clean_df.groupby('StockCode')['Quantity'].sum().sort_values(ascending=False)\n",
        "\n",
        "# Items Never Sold: Find products that have never been ordered.\n",
        "clean_df.groupby('StockCode')['Quantity'].sum().sort_values(ascending=True)\n",
        "\n",
        "\n",
        "# Seasonal Product Trends: Analyze product sales over different months.\n",
        "# Converting 'InvoiceDate' to a datetime format if it's not already\n",
        "\n",
        "clean_df['InvoiceDate'] = pd.to_datetime(clean_df['InvoiceDate'])\n",
        "# Extracting the month from 'InvoiceDate'\n",
        "clean_df['Month'] = clean_df['InvoiceDate'].dt.month\n",
        "# Grouping by 'StockCode' and 'Month', then summing the 'Quantity' to analyze sales\n",
        "seasonal_trends = clean_df.groupby(['StockCode', 'Month'])[\n",
        "    'Quantity'].sum().reset_index()\n",
        "seasonal_trends\n",
        "#  How many different countries are represented in the dataset?\n",
        "print(clean_df['Country'].nunique())\n",
        "# Count the number of unique stock codes.\n",
        "print(clean_df['StockCode'].nunique())\n",
        "# Calculate the total quantity of items sold.\n",
        "print(clean_df['Quantity'].sum())\n",
        "\n",
        "#  =========================================================\n",
        "\n",
        "# What is the earliest invoice date in the dataset?\n",
        "print(\n",
        "    f\"the earliest invoice date in the dataset: {clean_df['InvoiceDate'].sort_values(ascending=True)}\")\n",
        "\n",
        "# What is the average price of items in the dataset?\n",
        "print(f\"the average price of items in the dataset: {clean_df['price'].mean()}\")\n",
        "\n",
        "# Q7: Total number of customers\n",
        "total_customers = clean_df['Customer ID'].nunique()\n",
        "\n",
        "# Q8: Total quantity of items sold\n",
        "total_quantity_sold = clean_df['Quantity'].sum()\n",
        "\n",
        "# Q9: Latest date of invoice\n",
        "latest_invoice_date = clean_df['InvoiceDate'].max()\n",
        "\n",
        "# Q10: Median value of item prices\n",
        "median_price = clean_df['Price'].median()\n",
        "\n",
        "# Q11: Total revenue for the dataset\n",
        "total_revenue = clean_df['Total'].sum()\n",
        "\n",
        "# Q12: Average quantity per invoice\n",
        "avg_quantity_per_invoice = clean_df.groupby('Invoice')['Quantity'].mean()\n",
        "\n",
        "# Q13: Top 3 most sold items\n",
        "top_items = clean_df.groupby('Description')['Quantity'].sum().nlargest(3)\n",
        "\n",
        "# Q14: Item with highest individual price\n",
        "highest_price_item = clean_df.loc[clean_df['Price'].idxmax(), 'Description']\n",
        "\n",
        "# Q15: Top 5 countries in terms of total revenue\n",
        "top_countries_revenue = clean_df.groupby('Country')['Total'].sum().nlargest(5)\n",
        "\n",
        "# Q16: Total revenue per country\n",
        "revenue_per_country = clean_df.groupby('Country')['Total'].sum()\n",
        "\n",
        "# Q17: Average price of items sold per country\n",
        "avg_price_per_country = clean_df.groupby('Country')['Price'].mean()\n",
        "\n",
        "# Q18: Top 3 months in terms of sales volume\n",
        "clean_df['Month'] = clean_df['InvoiceDate'].dt.month\n",
        "sales_volume_per_month = clean_df.groupby(\n",
        "    'Month')['Quantity'].sum().nlargest(3)\n",
        "\n",
        "# Q19: Customer with the highest number of transactions\n",
        "top_customer_transactions = clean_df['Customer ID'].value_counts().idxmax()\n",
        "\n",
        "# Q20: Average transaction value per invoice\n",
        "avg_transaction_value = clean_df.groupby('Invoice')['Total'].mean()\n",
        "\n",
        "# Q21: Month with highest total revenue\n",
        "highest_revenue_month = clean_df.groupby('Month')['Total'].sum().idxmax()\n",
        "\n",
        "# Q22: Item with highest revenue contribution\n",
        "highest_revenue_item = clean_df.groupby('Description')['Total'].sum().idxmax()\n",
        "\n",
        "# Q23: Monthly growth rate in total revenue\n",
        "monthly_revenue = clean_df.groupby('Month')['Total'].sum()\n",
        "monthly_growth_rate = monthly_revenue.pct_change().dropna()\n",
        "\n",
        "# Q24: Customer with highest total spending\n",
        "highest_spending_customer = clean_df.groupby(\n",
        "    'Customer ID')['Total'].sum().idxmax()\n",
        "\n",
        "# Q25: Day of week with highest average sales volume\n",
        "clean_df['DayOfWeek'] = clean_df['InvoiceDate'].dt.dayofweek\n",
        "avg_sales_volume_dayofweek = clean_df.groupby(\n",
        "    'DayOfWeek')['Quantity'].mean().idxmax()\n",
        "\n",
        "# Q26: Cohort analysis based on first purchase month\n",
        "clean_df['CohortMonth'] = clean_df.groupby(\n",
        "    'Customer ID')['InvoiceDate'].transform('min').dt.to_period('M')\n",
        "cohort_analysis = clean_df.groupby(\n",
        "    ['CohortMonth', 'Month']).agg('nunique')['Customer ID']\n",
        "\n",
        "# Q27: Stock code with largest average transaction value\n",
        "largest_avg_transaction_stock = clean_df.groupby(\n",
        "    'StockCode')['Total'].mean().idxmax()\n",
        "\n",
        "# Q28: Repeat purchase rate per customer\n",
        "repeat_purchase_rate = clean_df['Customer ID'].value_counts().mean()\n",
        "\n",
        "# Q29: Average purchase interval for each customer\n",
        "clean_df['InvoiceDate'] = pd.to_datetime(clean_df['InvoiceDate'])\n",
        "purchase_intervals = clean_df.groupby(\n",
        "    'Customer ID')['InvoiceDate'].apply(lambda x: x.diff().mean())\n",
        "\n",
        "# Q30: Seasonal trends analysis\n",
        "clean_df['Quarter'] = clean_df['InvoiceDate'].dt.quarter\n",
        "seasonal_trends = clean_df.groupby('Quarter')['Quantity'].sum()"
      ]
    },
    {
      "cell_type": "markdown",
      "metadata": {},
      "source": [
        "---\n"
      ]
    },
    {
      "cell_type": "code",
      "execution_count": 23,
      "metadata": {
        "id": "CAXeXdzyYXQx"
      },
      "outputs": [],
      "source": [
        "cdf = pd.read_csv(\"./data_test_clustering_A1.csv\")"
      ]
    },
    {
      "cell_type": "code",
      "execution_count": 24,
      "metadata": {
        "colab": {
          "base_uri": "https://localhost:8080/",
          "height": 206
        },
        "id": "9xrisXT6amS1",
        "outputId": "aba0228d-897b-462f-a290-696da70973e3"
      },
      "outputs": [
        {
          "data": {
            "text/html": [
              "<div>\n",
              "<style scoped>\n",
              "    .dataframe tbody tr th:only-of-type {\n",
              "        vertical-align: middle;\n",
              "    }\n",
              "\n",
              "    .dataframe tbody tr th {\n",
              "        vertical-align: top;\n",
              "    }\n",
              "\n",
              "    .dataframe thead th {\n",
              "        text-align: right;\n",
              "    }\n",
              "</style>\n",
              "<table border=\"1\" class=\"dataframe\">\n",
              "  <thead>\n",
              "    <tr style=\"text-align: right;\">\n",
              "      <th></th>\n",
              "      <th>Unnamed: 0</th>\n",
              "      <th>Feature_1</th>\n",
              "      <th>Feature_2</th>\n",
              "      <th>Feature_3</th>\n",
              "      <th>Feature_4</th>\n",
              "      <th>Feature_5</th>\n",
              "      <th>Feature_6</th>\n",
              "      <th>Feature_7</th>\n",
              "      <th>Feature_8</th>\n",
              "    </tr>\n",
              "  </thead>\n",
              "  <tbody>\n",
              "    <tr>\n",
              "      <th>0</th>\n",
              "      <td>0</td>\n",
              "      <td>-3.570594</td>\n",
              "      <td>-8.634479</td>\n",
              "      <td>2.583979</td>\n",
              "      <td>10.796969</td>\n",
              "      <td>0.0</td>\n",
              "      <td>0.0</td>\n",
              "      <td>0.0</td>\n",
              "      <td>0.0</td>\n",
              "    </tr>\n",
              "    <tr>\n",
              "      <th>1</th>\n",
              "      <td>1</td>\n",
              "      <td>-5.141801</td>\n",
              "      <td>-9.480061</td>\n",
              "      <td>-0.452732</td>\n",
              "      <td>10.239413</td>\n",
              "      <td>0.0</td>\n",
              "      <td>0.0</td>\n",
              "      <td>0.0</td>\n",
              "      <td>0.0</td>\n",
              "    </tr>\n",
              "    <tr>\n",
              "      <th>2</th>\n",
              "      <td>2</td>\n",
              "      <td>5.442349</td>\n",
              "      <td>6.900069</td>\n",
              "      <td>0.857940</td>\n",
              "      <td>-9.532804</td>\n",
              "      <td>0.0</td>\n",
              "      <td>0.0</td>\n",
              "      <td>0.0</td>\n",
              "      <td>0.0</td>\n",
              "    </tr>\n",
              "    <tr>\n",
              "      <th>3</th>\n",
              "      <td>3</td>\n",
              "      <td>7.740632</td>\n",
              "      <td>-7.739564</td>\n",
              "      <td>3.524483</td>\n",
              "      <td>1.975055</td>\n",
              "      <td>0.0</td>\n",
              "      <td>0.0</td>\n",
              "      <td>0.0</td>\n",
              "      <td>0.0</td>\n",
              "    </tr>\n",
              "    <tr>\n",
              "      <th>4</th>\n",
              "      <td>4</td>\n",
              "      <td>-4.273923</td>\n",
              "      <td>-8.461581</td>\n",
              "      <td>1.884085</td>\n",
              "      <td>9.813837</td>\n",
              "      <td>0.0</td>\n",
              "      <td>0.0</td>\n",
              "      <td>0.0</td>\n",
              "      <td>0.0</td>\n",
              "    </tr>\n",
              "  </tbody>\n",
              "</table>\n",
              "</div>"
            ],
            "text/plain": [
              "   Unnamed: 0  Feature_1  Feature_2  Feature_3  Feature_4  Feature_5  \\\n",
              "0           0  -3.570594  -8.634479   2.583979  10.796969        0.0   \n",
              "1           1  -5.141801  -9.480061  -0.452732  10.239413        0.0   \n",
              "2           2   5.442349   6.900069   0.857940  -9.532804        0.0   \n",
              "3           3   7.740632  -7.739564   3.524483   1.975055        0.0   \n",
              "4           4  -4.273923  -8.461581   1.884085   9.813837        0.0   \n",
              "\n",
              "   Feature_6  Feature_7  Feature_8  \n",
              "0        0.0        0.0        0.0  \n",
              "1        0.0        0.0        0.0  \n",
              "2        0.0        0.0        0.0  \n",
              "3        0.0        0.0        0.0  \n",
              "4        0.0        0.0        0.0  "
            ]
          },
          "execution_count": 24,
          "metadata": {},
          "output_type": "execute_result"
        }
      ],
      "source": [
        "cdf.head()"
      ]
    },
    {
      "cell_type": "code",
      "execution_count": null,
      "metadata": {
        "id": "Kg5oFFwJcQBC"
      },
      "outputs": [],
      "source": []
    },
    {
      "cell_type": "code",
      "execution_count": 25,
      "metadata": {
        "id": "mlVC3zpZaofL"
      },
      "outputs": [],
      "source": [
        "range_cdf = cdf.loc[33654: 34550]"
      ]
    },
    {
      "cell_type": "code",
      "execution_count": 26,
      "metadata": {
        "colab": {
          "base_uri": "https://localhost:8080/",
          "height": 206
        },
        "id": "jL12b4OQcRZ4",
        "outputId": "02f6ab7a-0e7e-443e-86e6-224f199dfb89"
      },
      "outputs": [
        {
          "data": {
            "text/html": [
              "<div>\n",
              "<style scoped>\n",
              "    .dataframe tbody tr th:only-of-type {\n",
              "        vertical-align: middle;\n",
              "    }\n",
              "\n",
              "    .dataframe tbody tr th {\n",
              "        vertical-align: top;\n",
              "    }\n",
              "\n",
              "    .dataframe thead th {\n",
              "        text-align: right;\n",
              "    }\n",
              "</style>\n",
              "<table border=\"1\" class=\"dataframe\">\n",
              "  <thead>\n",
              "    <tr style=\"text-align: right;\">\n",
              "      <th></th>\n",
              "      <th>Unnamed: 0</th>\n",
              "      <th>Feature_1</th>\n",
              "      <th>Feature_2</th>\n",
              "      <th>Feature_3</th>\n",
              "      <th>Feature_4</th>\n",
              "      <th>Feature_5</th>\n",
              "      <th>Feature_6</th>\n",
              "      <th>Feature_7</th>\n",
              "      <th>Feature_8</th>\n",
              "    </tr>\n",
              "  </thead>\n",
              "  <tbody>\n",
              "    <tr>\n",
              "      <th>33654</th>\n",
              "      <td>33654</td>\n",
              "      <td>9.334574</td>\n",
              "      <td>-11.061297</td>\n",
              "      <td>-4.115648</td>\n",
              "      <td>-8.224453</td>\n",
              "      <td>5.048854</td>\n",
              "      <td>0.0</td>\n",
              "      <td>0.0</td>\n",
              "      <td>0.0</td>\n",
              "    </tr>\n",
              "    <tr>\n",
              "      <th>33655</th>\n",
              "      <td>33655</td>\n",
              "      <td>8.237714</td>\n",
              "      <td>6.986733</td>\n",
              "      <td>3.978684</td>\n",
              "      <td>4.394262</td>\n",
              "      <td>3.988520</td>\n",
              "      <td>0.0</td>\n",
              "      <td>0.0</td>\n",
              "      <td>0.0</td>\n",
              "    </tr>\n",
              "    <tr>\n",
              "      <th>33656</th>\n",
              "      <td>33656</td>\n",
              "      <td>8.228386</td>\n",
              "      <td>9.255234</td>\n",
              "      <td>2.870936</td>\n",
              "      <td>4.277417</td>\n",
              "      <td>2.904004</td>\n",
              "      <td>0.0</td>\n",
              "      <td>0.0</td>\n",
              "      <td>0.0</td>\n",
              "    </tr>\n",
              "    <tr>\n",
              "      <th>33657</th>\n",
              "      <td>33657</td>\n",
              "      <td>8.203598</td>\n",
              "      <td>9.259705</td>\n",
              "      <td>1.646897</td>\n",
              "      <td>5.490423</td>\n",
              "      <td>5.260738</td>\n",
              "      <td>0.0</td>\n",
              "      <td>0.0</td>\n",
              "      <td>0.0</td>\n",
              "    </tr>\n",
              "    <tr>\n",
              "      <th>33658</th>\n",
              "      <td>33658</td>\n",
              "      <td>8.991461</td>\n",
              "      <td>-10.448637</td>\n",
              "      <td>-3.896034</td>\n",
              "      <td>-7.028710</td>\n",
              "      <td>6.691118</td>\n",
              "      <td>0.0</td>\n",
              "      <td>0.0</td>\n",
              "      <td>0.0</td>\n",
              "    </tr>\n",
              "  </tbody>\n",
              "</table>\n",
              "</div>"
            ],
            "text/plain": [
              "       Unnamed: 0  Feature_1  Feature_2  Feature_3  Feature_4  Feature_5  \\\n",
              "33654       33654   9.334574 -11.061297  -4.115648  -8.224453   5.048854   \n",
              "33655       33655   8.237714   6.986733   3.978684   4.394262   3.988520   \n",
              "33656       33656   8.228386   9.255234   2.870936   4.277417   2.904004   \n",
              "33657       33657   8.203598   9.259705   1.646897   5.490423   5.260738   \n",
              "33658       33658   8.991461 -10.448637  -3.896034  -7.028710   6.691118   \n",
              "\n",
              "       Feature_6  Feature_7  Feature_8  \n",
              "33654        0.0        0.0        0.0  \n",
              "33655        0.0        0.0        0.0  \n",
              "33656        0.0        0.0        0.0  \n",
              "33657        0.0        0.0        0.0  \n",
              "33658        0.0        0.0        0.0  "
            ]
          },
          "execution_count": 26,
          "metadata": {},
          "output_type": "execute_result"
        }
      ],
      "source": [
        "range_cdf.head()"
      ]
    },
    {
      "cell_type": "code",
      "execution_count": 27,
      "metadata": {
        "colab": {
          "base_uri": "https://localhost:8080/",
          "height": 732
        },
        "id": "Dx6TsRg9bRmK",
        "outputId": "55a96cbf-e8c7-41e8-e36a-a6c2ea8e651b"
      },
      "outputs": [
        {
          "data": {
            "image/png": "[encoded data removed]",
            "text/plain": [
              "<Figure size 800x800 with 1 Axes>"
            ]
          },
          "metadata": {},
          "output_type": "display_data"
        }
      ],
      "source": [
        "import matplotlib.pyplot as plt\n",
        "from sklearn.decomposition import PCA\n",
        "from sklearn.preprocessing import StandardScaler\n",
        "\n",
        "# Assuming df is your DataFrame\n",
        "features = range_cdf.drop('Unnamed: 0', axis=1)\n",
        "\n",
        "# Standardize the features\n",
        "features = StandardScaler().fit_transform(features)\n",
        "\n",
        "# Apply PCA\n",
        "pca = PCA(n_components=2)\n",
        "principalComponents = pca.fit_transform(features)\n",
        "\n",
        "# Create a DataFrame with the two components\n",
        "principalDf = pd.DataFrame(data=principalComponents, columns=[\n",
        "                           'principal component 1', 'principal component 2'])\n",
        "\n",
        "# Visualize the data\n",
        "fig = plt.figure(figsize=(8, 8))\n",
        "ax = fig.add_subplot(1, 1, 1)\n",
        "ax.set_xlabel('Principal Component 1', fontsize=15)\n",
        "ax.set_ylabel('Principal Component 2', fontsize=15)\n",
        "ax.set_title('2 Component PCA', fontsize=20)\n",
        "\n",
        "ax.scatter(principalDf['principal component 1'],\n",
        "           principalDf['principal component 2'])\n",
        "ax.grid()"
      ]
    },
    {
      "cell_type": "code",
      "execution_count": null,
      "metadata": {
        "colab": {
          "base_uri": "https://localhost:8080/"
        },
        "id": "mIn1H64bdQfF",
        "outputId": "ccfef648-f5ee-4f97-dfb2-f572c9a1f453"
      },
      "outputs": [
        {
          "data": {
            "text/plain": [
              "(897, 2)"
            ]
          },
          "execution_count": 49,
          "metadata": {},
          "output_type": "execute_result"
        }
      ],
      "source": [
        "principalDf.shape"
      ]
    },
    {
      "cell_type": "code",
      "execution_count": 30,
      "metadata": {
        "colab": {
          "base_uri": "https://localhost:8080/"
        },
        "id": "g7Y61YlzdkNl",
        "outputId": "eb2e1202-f772-4c0a-c6a0-ca755130c4c8"
      },
      "outputs": [
        {
          "name": "stdout",
          "output_type": "stream",
          "text": [
            "For index 801, the most significant PCA component value is 1.9073502140318028\n"
          ]
        }
      ],
      "source": [
        "# Assuming principalDf is your DataFrame with the PCA components\n",
        "most_significant_pca_value_801 = principalDf.loc[801].max()\n",
        "\n",
        "print(\n",
        "    f\"For index 801, the most significant PCA component value is {most_significant_pca_value_801}\")"
      ]
    },
    {
      "cell_type": "code",
      "execution_count": 31,
      "metadata": {
        "colab": {
          "base_uri": "https://localhost:8080/"
        },
        "id": "a8IzQchmd--m",
        "outputId": "fbf5cda9-35dc-4d93-dee2-c6a828f1ed4a"
      },
      "outputs": [
        {
          "name": "stdout",
          "output_type": "stream",
          "text": [
            "For index 77, the second most significant PCA component value is -1.7962534679134727\n"
          ]
        }
      ],
      "source": [
        "# Assuming principalDf is your DataFrame with the PCA components\n",
        "second_most_significant_pca_value_77 = principalDf.loc[77].min()\n",
        "\n",
        "print(\n",
        "    f\"For index 77, the second most significant PCA component value is {second_most_significant_pca_value_77}\")"
      ]
    },
    {
      "cell_type": "code",
      "execution_count": 32,
      "metadata": {
        "colab": {
          "base_uri": "https://localhost:8080/"
        },
        "id": "ijH5vKQ8eTnX",
        "outputId": "0ac5a78b-f013-4e57-f1c6-ccdbf34fed5b"
      },
      "outputs": [
        {
          "name": "stdout",
          "output_type": "stream",
          "text": [
            "The Euclidean distance between the PCA components of indexes 801 and 77 is 2.9544720656760557\n"
          ]
        }
      ],
      "source": [
        "# Assuming principalDf is your DataFrame with the PCA components\n",
        "pca_801 = principalDf.loc[801]\n",
        "pca_77 = principalDf.loc[77]\n",
        "\n",
        "# Calculate Euclidean distance\n",
        "distance = np.linalg.norm(pca_801 - pca_77)\n",
        "\n",
        "print(\n",
        "    f\"The Euclidean distance between the PCA components of indexes 801 and 77 is {distance}\")"
      ]
    },
    {
      "cell_type": "code",
      "execution_count": 33,
      "metadata": {
        "colab": {
          "base_uri": "https://localhost:8080/"
        },
        "id": "P08IeF9af6aI",
        "outputId": "ad5fb279-5c98-408d-eccc-9f11451c533c"
      },
      "outputs": [
        {
          "name": "stderr",
          "output_type": "stream",
          "text": [
            "c:\\Users\\User\\AppData\\Local\\Programs\\Python\\Python311\\Lib\\site-packages\\sklearn\\cluster\\_kmeans.py:1416: FutureWarning: The default value of `n_init` will change from 10 to 'auto' in 1.4. Set the value of `n_init` explicitly to suppress the warning\n",
            "  super()._check_params_vs_input(X, default_n_init=10)\n"
          ]
        },
        {
          "name": "stdout",
          "output_type": "stream",
          "text": [
            "The features from index 801 belong to cluster label 2\n",
            "The features from index 77 belong to cluster label 0\n"
          ]
        }
      ],
      "source": [
        "from sklearn.cluster import KMeans\n",
        "\n",
        "# Assuming df is your DataFrame and you've already performed PCA\n",
        "features = principalDf\n",
        "\n",
        "# Apply KMeans\n",
        "kmeans = KMeans(n_clusters=3, random_state=0).fit(features)\n",
        "\n",
        "# Get cluster labels for indices 801 and 77\n",
        "label_801 = kmeans.labels_[801]\n",
        "label_77 = kmeans.labels_[77]\n",
        "\n",
        "print(f\"The features from index 801 belong to cluster label {label_801}\")\n",
        "print(f\"The features from index 77 belong to cluster label {label_77}\")"
      ]
    },
    {
      "cell_type": "markdown",
      "metadata": {},
      "source": [
        "---\n",
        "\n",
        "NoSQL - Reaven-DB\n"
      ]
    },
    {
      "cell_type": "markdown",
      "metadata": {},
      "source": [
        "Create a query that returns a list of all employees and their superiors (for example king - Buchanan, Suyama - Buchanan, etc.).\n",
        "\n",
        "- Last names are sufficient.\n",
        "- Write the full query.\n",
        "\n",
        "```sql\n",
        "from Employees as e\n",
        "load e.ReportsTo as re\n",
        "\n",
        "select {Name: e.LastName, SName: re.LastName}\n",
        "\n",
        "```\n"
      ]
    },
    {
      "cell_type": "markdown",
      "metadata": {},
      "source": [
        "Create index that will allow to search products by the name of their category.\n",
        "(For example the index for query:  \n",
        "from index '...' where CatName == 'Beverages')\n",
        "Write the full index syntax.\n",
        "\n",
        "```SQL\n",
        "map(\"Products\", (product) => {\n",
        "    let catg = load(product.Category,\"categories\")\n",
        "return {\n",
        " catg_Name:catg.Name}})\n",
        "\n",
        "```\n"
      ]
    },
    {
      "cell_type": "markdown",
      "metadata": {},
      "source": [
        "How many pieces of Pavlova were sold in total?\n",
        "\n",
        "```sql\n",
        "from 'Orders' as o\n",
        "group by o.Lines[].ProductName\n",
        "where o.Lines[].ProductName == \"Pavlova\"\n",
        "select sum(o.Lines[].Quantity)\n",
        "```\n"
      ]
    },
    {
      "cell_type": "markdown",
      "metadata": {},
      "source": [
        "Which team has the tallest players (team height average)?\n",
        "Write the answer + full query/index.\n",
        "\n",
        "1. Create index\n",
        "2. Create Map\n",
        "\n",
        "```SQL\n",
        "map(\"Mlb_players\", (mlb) => {\n",
        "return {\n",
        "    TeamName: mlb.Team,\n",
        "    Height:mlb.Height,\n",
        "    Count:1,\n",
        "    Average:0\n",
        "}\n",
        "})\n",
        "```\n",
        "\n",
        "2. Create reduction\n",
        "\n",
        "```SQL\n",
        "groupBy(x => ({ TeamName: x.TeamName }))\n",
        ".aggregate(g => {\n",
        "    const totalHeight = g.values.reduce((count, val) => val.Height + count, 0);\n",
        "    const totalCount = g.values.reduce((count, val) => val.Count + count, 0);\n",
        "    const average = totalHeight / totalCount;\n",
        "\n",
        "    return {\n",
        "        TeamName: g.key.TeamName,\n",
        "        Height: totalHeight,\n",
        "        Count: totalCount,\n",
        "        Average: isNaN(average) ? 0 : average\n",
        "\n",
        "    };\n",
        "})\n",
        "\n",
        "```\n"
      ]
    },
    {
      "cell_type": "markdown",
      "metadata": {},
      "source": [
        "Which team has the heaviest players (team weight average)?\n",
        "Write the answer + full query/index.\n",
        "\n",
        "1. MAP\n",
        "\n",
        "```SQL\n",
        "map(\"Mlb_players\", (mlb) => {\n",
        "return {\n",
        "    TeamName: mlb.Team,\n",
        "    Weight:mlb.Weight,\n",
        "    Count:1,\n",
        "    Average:0\n",
        "}\n",
        "})\n",
        "```\n",
        "\n",
        "2. Reduction\n",
        "\n",
        "```SQL\n",
        "groupBy(x => ({ TeamName: x.TeamName }))\n",
        ".aggregate(g => {\n",
        "    const totalWeight = g.values.reduce((count, val) => val.Weight + count, 0);\n",
        "    const totalCount = g.values.reduce((count, val) => val.Count + count, 0);\n",
        "    const average = totalWeight / totalCount;\n",
        "\n",
        "    return {\n",
        "        TeamName: g.key.TeamName,\n",
        "        Weight: totalWeight,\n",
        "        Count: totalCount,\n",
        "        Average: isNaN(average) ? 0 : average\n",
        "\n",
        "    };\n",
        "})\n",
        "```\n"
      ]
    },
    {
      "cell_type": "markdown",
      "metadata": {},
      "source": [
        "What is the impact of PCA on the shape of clusters?\n",
        "\n",
        "[ ]. PCA transforms all clusters into circular shapes.\n",
        "\n",
        "[ ]. PCA typically distorts the shape of clusters significantly.\n",
        "\n",
        "[X] PCA may slightly alter cluster shapes due to dimensionality reduction.\n",
        "\n",
        "[ ]. PCA maintains the exact original shape of clusters.\n"
      ]
    },
    {
      "cell_type": "markdown",
      "metadata": {},
      "source": [
        "How does HDF5 achieve efficient file access? ==> c. Through the use of indexing.\n",
        "\n",
        "a. Using a single-threaded file access model.\n",
        "\n",
        "b. By storing all data in memory.\n",
        "\n",
        "c. Through the use of indexing.\n",
        "\n",
        "d. By restricting file size.\n"
      ]
    },
    {
      "cell_type": "markdown",
      "metadata": {},
      "source": [
        "Can traditional file formats (like CSV or Excel) be converted to HDF5?\n",
        "Select one or more:\n",
        "\n",
        "a. Conversion is possible, but data will be lost.\n",
        "\n",
        "==> b. Yes, HDF5 supports direct conversion from many popular file formats.\n",
        "\n",
        "==> c. Yes, but only through third-party tools.\n",
        "\n",
        "d. No, HDF5 does not support conversions from other formats\n"
      ]
    },
    {
      "cell_type": "markdown",
      "metadata": {},
      "source": [
        "How are AIC (Akaike Information Criterion) and BIC (Bayesian Information Criterion) used in cluster selection? ==> b. To balance model complexity and goodness of fit.\n",
        "\n",
        "a.They are not used in cluster selection.\n",
        "\n",
        "b.To balance model complexity and goodness of fit.\n",
        "\n",
        "c.To compute the distance between clusters.\n",
        "\n",
        "d.To measure the performance of the clustering algorithm.\n"
      ]
    },
    {
      "cell_type": "markdown",
      "metadata": {},
      "source": [
        "How does HDF5 handle very large file sizes? ==> b. Supports large file sizes without splitting.\n",
        "\n",
        "a. by limiting the maximum file size\n",
        "\n",
        "b. Supports large file sizes without splitting\n",
        "\n",
        "c. it splits the file into smaller chunks automatically\n",
        "\n",
        "d. HDF5 Cannot handle large files\n"
      ]
    },
    {
      "cell_type": "markdown",
      "metadata": {},
      "source": [
        "---\n",
        "\n",
        "Resources\n",
        "\n",
        "1. https://github.com/unparalled-anupama/SQL_Queries/blob/main/README.md\n",
        "2. https://www.w3resource.com/sql-exercises/adventureworks/adventureworks-exercises.php\n",
        "3. https://akela.mendelu.cz/~jprich/vyuka/db2/AdventureWorks2008_db_diagram.pdf\n",
        "4. https://dataedo.com/samples/html/AdventureWorks/doc/AdventureWorks_2/tables/Sales_SalesOrderHeader_185.html\n",
        "5. https://blog.jpries.com/wp-content/uploads/2015/12/AdventureWorksDW2008.pdf\n",
        "6. https://medium.com/@folaj66/adventure-works-2019-customer-sales-purchasing-production-analysis-using-sql-9ac35015548e\n",
        "7. https://medium.com/@SulaimonOdubanjo/exploratory-data-analysis-of-adventureworks-database-using-sql-261acec977d7\n"
      ]
    },
    {
      "cell_type": "markdown",
      "metadata": {},
      "source": []
    }
  ],
  "metadata": {
    "colab": {
      "provenance": []
    },
    "kernelspec": {
      "display_name": "Python 3",
      "name": "python3"
    },
    "language_info": {
      "codemirror_mode": {
        "name": "ipython",
        "version": 3
      },
      "file_extension": ".py",
      "mimetype": "text/x-python",
      "name": "python",
      "nbconvert_exporter": "python",
      "pygments_lexer": "ipython3",
      "version": "3.11.4"
    }
  },
  "nbformat": 4,
  "nbformat_minor": 0
}
